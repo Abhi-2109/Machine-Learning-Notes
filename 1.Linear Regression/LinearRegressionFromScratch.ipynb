{
 "cells": [
  {
   "cell_type": "code",
   "execution_count": 1,
   "metadata": {},
   "outputs": [],
   "source": [
    "# We are suppose to write the four function for Linear Regression\n"
   ]
  },
  {
   "cell_type": "code",
   "execution_count": 2,
   "metadata": {},
   "outputs": [],
   "source": [
    "import numpy as np"
   ]
  },
  {
   "cell_type": "code",
   "execution_count": 3,
   "metadata": {},
   "outputs": [],
   "source": [
    "data = np.loadtxt(\"data.csv\",delimiter=\",\")"
   ]
  },
  {
   "cell_type": "code",
   "execution_count": 4,
   "metadata": {},
   "outputs": [],
   "source": [
    "x = data[:,0]\n",
    "y = data[:,1]"
   ]
  },
  {
   "cell_type": "code",
   "execution_count": 5,
   "metadata": {},
   "outputs": [
    {
     "data": {
      "text/plain": [
       "(100,)"
      ]
     },
     "execution_count": 5,
     "metadata": {},
     "output_type": "execute_result"
    }
   ],
   "source": [
    "x.shape"
   ]
  },
  {
   "cell_type": "code",
   "execution_count": 6,
   "metadata": {},
   "outputs": [
    {
     "data": {
      "text/plain": [
       "(70,)"
      ]
     },
     "execution_count": 6,
     "metadata": {},
     "output_type": "execute_result"
    }
   ],
   "source": [
    "from sklearn import model_selection\n",
    "X_train, X_test, Y_train, Y_test = model_selection.train_test_split(x,y,test_size = 0.3)\n",
    "X_train.shape"
   ]
  },
  {
   "cell_type": "code",
   "execution_count": 7,
   "metadata": {},
   "outputs": [],
   "source": [
    "def fit(x_train, y_train):\n",
    "    numerator = (x_train*y_train).mean() - x_train.mean()*Y_train.mean()\n",
    "    denominator = (x_train*x_train).mean() - x_train.mean()**2\n",
    "    m = numerator/denominator\n",
    "    c = y_train.mean() - m*x_train.mean()\n",
    "    return m,c\n",
    "    "
   ]
  },
  {
   "cell_type": "code",
   "execution_count": 11,
   "metadata": {},
   "outputs": [],
   "source": [
    "def predict(x,m,c):\n",
    "    return m*x + c\n",
    "\n",
    "def score(y_truth, y_pred):\n",
    "    u = ((y_truth - y_pred)**2).sum()\n",
    "    v = (((y_truth - y_truth.mean())**2).sum())\n",
    "    return 1 - u/v\n",
    "\n",
    "def cost(x,y,m,c):\n",
    "    return ((y - m * x - c)**2).sum().mean() "
   ]
  },
  {
   "cell_type": "code",
   "execution_count": 14,
   "metadata": {},
   "outputs": [
    {
     "name": "stdout",
     "output_type": "stream",
     "text": [
      "Test Score 0.45837532276224824\n",
      "Train Score 0.6270717095044595\n",
      "M, C  1.385619950449636 5.6916133318374875\n",
      "Cost on Training Data 7192.9145410221\n"
     ]
    }
   ],
   "source": [
    "m,c = fit(X_train, Y_train)\n",
    "# test Data\n",
    "Y_test_pred = predict(X_test,m,c)\n",
    "print(\"Test Score\",score(Y_test,Y_test_pred))\n",
    "\n",
    "# train data\n",
    "Y_train_pred = predict(X_train,m,c)\n",
    "print(\"Train Score\",score(Y_train,Y_train_pred))\n",
    "\n",
    "print(\"M, C \", m, c)\n",
    "print(\"Cost on Training Data\", cost(X_train,Y_train, m,c))"
   ]
  },
  {
   "cell_type": "code",
   "execution_count": null,
   "metadata": {},
   "outputs": [],
   "source": []
  }
 ],
 "metadata": {
  "kernelspec": {
   "display_name": "Python 3",
   "language": "python",
   "name": "python3"
  },
  "language_info": {
   "codemirror_mode": {
    "name": "ipython",
    "version": 3
   },
   "file_extension": ".py",
   "mimetype": "text/x-python",
   "name": "python",
   "nbconvert_exporter": "python",
   "pygments_lexer": "ipython3",
   "version": "3.6.7"
  }
 },
 "nbformat": 4,
 "nbformat_minor": 2
}
